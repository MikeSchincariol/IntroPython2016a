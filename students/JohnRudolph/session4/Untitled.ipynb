{
 "cells": [
  {
   "cell_type": "markdown",
   "metadata": {},
   "source": [
    "# Strings Lab"
   ]
  },
  {
   "cell_type": "code",
   "execution_count": 3,
   "metadata": {
    "collapsed": true
   },
   "outputs": [],
   "source": [
    "raw_string = r'one\\two'"
   ]
  },
  {
   "cell_type": "code",
   "execution_count": 4,
   "metadata": {
    "collapsed": false
   },
   "outputs": [
    {
     "data": {
      "text/plain": [
       "'one\\\\two'"
      ]
     },
     "execution_count": 4,
     "metadata": {},
     "output_type": "execute_result"
    }
   ],
   "source": [
    "raw_string"
   ]
  },
  {
   "cell_type": "code",
   "execution_count": 5,
   "metadata": {
    "collapsed": true
   },
   "outputs": [],
   "source": [
    "regular_string = 'one\\two'"
   ]
  },
  {
   "cell_type": "code",
   "execution_count": 6,
   "metadata": {
    "collapsed": false
   },
   "outputs": [
    {
     "data": {
      "text/plain": [
       "'one\\two'"
      ]
     },
     "execution_count": 6,
     "metadata": {},
     "output_type": "execute_result"
    }
   ],
   "source": [
    "regular_string"
   ]
  },
  {
   "cell_type": "markdown",
   "metadata": {},
   "source": [
    "Convert to and back from ordinals"
   ]
  },
  {
   "cell_type": "code",
   "execution_count": 7,
   "metadata": {
    "collapsed": false
   },
   "outputs": [
    {
     "name": "stdout",
     "output_type": "stream",
     "text": [
      "121\n",
      "111\n",
      "100\n",
      "97\n"
     ]
    }
   ],
   "source": [
    "for i in 'yoda':\n",
    "    print(ord(i))"
   ]
  },
  {
   "cell_type": "code",
   "execution_count": 8,
   "metadata": {
    "collapsed": false
   },
   "outputs": [
    {
     "name": "stdout",
     "output_type": "stream",
     "text": [
      "yoda"
     ]
    }
   ],
   "source": [
    "for i in (121, 111, 100, 97):\n",
    "    print(chr(i), end='')"
   ]
  },
  {
   "cell_type": "markdown",
   "metadata": {},
   "source": [
    "# String Formatting"
   ]
  },
  {
   "cell_type": "code",
   "execution_count": 11,
   "metadata": {
    "collapsed": true
   },
   "outputs": [],
   "source": [
    "stringa = 'this is a string' "
   ]
  },
  {
   "cell_type": "code",
   "execution_count": 12,
   "metadata": {
    "collapsed": false
   },
   "outputs": [
    {
     "data": {
      "text/plain": [
       "'Hello this is a string!'"
      ]
     },
     "execution_count": 12,
     "metadata": {},
     "output_type": "execute_result"
    }
   ],
   "source": [
    "'Hello {}!'.format(stringa)"
   ]
  },
  {
   "cell_type": "code",
   "execution_count": 14,
   "metadata": {
    "collapsed": true
   },
   "outputs": [],
   "source": [
    "stringb = 'another string'"
   ]
  },
  {
   "cell_type": "code",
   "execution_count": 15,
   "metadata": {
    "collapsed": false
   },
   "outputs": [
    {
     "data": {
      "text/plain": [
       "'Hello this is a string! another string'"
      ]
     },
     "execution_count": 15,
     "metadata": {},
     "output_type": "execute_result"
    }
   ],
   "source": [
    "'Hello {}! {}'.format(stringa, stringb)"
   ]
  },
  {
   "cell_type": "markdown",
   "metadata": {},
   "source": [
    "Hanging comma is not an error - is goodf to have when have many args for nice formatting"
   ]
  },
  {
   "cell_type": "code",
   "execution_count": 16,
   "metadata": {
    "collapsed": false
   },
   "outputs": [
    {
     "data": {
      "text/plain": [
       "'Hello another string! this is a string'"
      ]
     },
     "execution_count": 16,
     "metadata": {},
     "output_type": "execute_result"
    }
   ],
   "source": [
    "'Hello {first_string}! {second_string}'.format(second_string=stringa, first_string=stringb, )"
   ]
  },
  {
   "cell_type": "markdown",
   "metadata": {},
   "source": [
    "# File and Streams"
   ]
  },
  {
   "cell_type": "code",
   "execution_count": 18,
   "metadata": {
    "collapsed": true
   },
   "outputs": [],
   "source": [
    "with open('test.txt', 'r') as f:\n",
    "    read_data = f.read()"
   ]
  },
  {
   "cell_type": "code",
   "execution_count": 19,
   "metadata": {
    "collapsed": false
   },
   "outputs": [
    {
     "data": {
      "text/plain": [
       "True"
      ]
     },
     "execution_count": 19,
     "metadata": {},
     "output_type": "execute_result"
    }
   ],
   "source": [
    "f.closed"
   ]
  },
  {
   "cell_type": "code",
   "execution_count": 20,
   "metadata": {
    "collapsed": false
   },
   "outputs": [
    {
     "data": {
      "text/plain": [
       "'This is a blank text file\\nIt has some words in it\\nBlah blah blah blah'"
      ]
     },
     "execution_count": 20,
     "metadata": {},
     "output_type": "execute_result"
    }
   ],
   "source": [
    "read_data"
   ]
  },
  {
   "cell_type": "code",
   "execution_count": 21,
   "metadata": {
    "collapsed": false
   },
   "outputs": [
    {
     "name": "stdout",
     "output_type": "stream",
     "text": [
      "This is a blank text file\n",
      "It has some words in it\n",
      "Blah blah blah blah\n"
     ]
    }
   ],
   "source": [
    "print(read_data)"
   ]
  },
  {
   "cell_type": "markdown",
   "metadata": {},
   "source": [
    "# File Lab"
   ]
  },
  {
   "cell_type": "code",
   "execution_count": 59,
   "metadata": {
    "collapsed": true
   },
   "outputs": [],
   "source": [
    "with open('students.txt', 'r') as s:\n",
    "    students = s.read()"
   ]
  },
  {
   "cell_type": "code",
   "execution_count": 60,
   "metadata": {
    "collapsed": false
   },
   "outputs": [],
   "source": [
    "studentsplit = []"
   ]
  },
  {
   "cell_type": "code",
   "execution_count": 61,
   "metadata": {
    "collapsed": true
   },
   "outputs": [],
   "source": [
    "for word in students.split('\\n'):\n",
    "    if len(word)>0:\n",
    "        studentsplit.append(word)"
   ]
  },
  {
   "cell_type": "code",
   "execution_count": 62,
   "metadata": {
    "collapsed": false
   },
   "outputs": [
    {
     "name": "stdout",
     "output_type": "stream",
     "text": [
      "['Bindhu, Krishna: ', 'Bounds, Brennen: English', 'Gregor, Michael: English', 'Holmer, Deana: SQL, English', 'Kumar, Pradeep: English, Hindi, Python, shell, d2k, SQL, Perl', 'Rees, Susan: English, Latin, HTML, CSS, Javascript, Ruby, SQL', 'Rudolph, John: English, Python, Sass, R, Basic', 'Solomon, Tsega: C, C++, Perl, VHDL, Verilog, Specman', 'Warren, Benjamin: English', 'Aleson, Brandon: English', 'Chang, Jaemin: English', 'Chinn, Kyle: English', 'Derdouri, Abderrazak: English', 'Fannin, Calvin: C#, SQL, R', 'Gaffney, Thomas: SQL, Python, R, VBA, English', 'Glogowski, Bryan: Basic, Pascal, C, Perl, Ruby', 'Ganzalez, Luis: Basic, C++, Python, English, Spanish', 'Ho, Chi Kin: English', 'McKeag, Gregory: C, Lisp, C++, Objective-C, SQL, R, Pascal, Ada, Perl, Prolog, Scheme, Assembley', 'Myerscough, Damian: ', 'Newton, Michael: Python, Perl, Matlab', 'Sarpangala, Kishan: ', 'Schincariol, Mike: Python, C#, C, Tcl, VBA, Perl, Bash, VHDL, Verilog, Matlab', 'Zhao, Yuanrui: ']\n"
     ]
    }
   ],
   "source": [
    "print(studentsplit)"
   ]
  },
  {
   "cell_type": "code",
   "execution_count": 64,
   "metadata": {
    "collapsed": false
   },
   "outputs": [],
   "source": [
    "namelan = []\n",
    "for word in studentsplit:\n",
    "    namelan.append(word.split(':'))    "
   ]
  },
  {
   "cell_type": "code",
   "execution_count": 65,
   "metadata": {
    "collapsed": false
   },
   "outputs": [
    {
     "name": "stdout",
     "output_type": "stream",
     "text": [
      "[['Bindhu, Krishna', ' '], ['Bounds, Brennen', ' English'], ['Gregor, Michael', ' English'], ['Holmer, Deana', ' SQL, English'], ['Kumar, Pradeep', ' English, Hindi, Python, shell, d2k, SQL, Perl'], ['Rees, Susan', ' English, Latin, HTML, CSS, Javascript, Ruby, SQL'], ['Rudolph, John', ' English, Python, Sass, R, Basic'], ['Solomon, Tsega', ' C, C++, Perl, VHDL, Verilog, Specman'], ['Warren, Benjamin', ' English'], ['Aleson, Brandon', ' English'], ['Chang, Jaemin', ' English'], ['Chinn, Kyle', ' English'], ['Derdouri, Abderrazak', ' English'], ['Fannin, Calvin', ' C#, SQL, R'], ['Gaffney, Thomas', ' SQL, Python, R, VBA, English'], ['Glogowski, Bryan', ' Basic, Pascal, C, Perl, Ruby'], ['Ganzalez, Luis', ' Basic, C++, Python, English, Spanish'], ['Ho, Chi Kin', ' English'], ['McKeag, Gregory', ' C, Lisp, C++, Objective-C, SQL, R, Pascal, Ada, Perl, Prolog, Scheme, Assembley'], ['Myerscough, Damian', ' '], ['Newton, Michael', ' Python, Perl, Matlab'], ['Sarpangala, Kishan', ' '], ['Schincariol, Mike', ' Python, C#, C, Tcl, VBA, Perl, Bash, VHDL, Verilog, Matlab'], ['Zhao, Yuanrui', ' ']]\n"
     ]
    }
   ],
   "source": [
    "print(namelan)"
   ]
  },
  {
   "cell_type": "code",
   "execution_count": 72,
   "metadata": {
    "collapsed": false
   },
   "outputs": [
    {
     "name": "stdout",
     "output_type": "stream",
     "text": [
      "['Bindhu, Krishna', ' ']\n",
      "['Bounds, Brennen', ' English']\n",
      "['Gregor, Michael', ' English']\n",
      "['Holmer, Deana', ' SQL, English']\n",
      "['Kumar, Pradeep', ' English, Hindi, Python, shell, d2k, SQL, Perl']\n",
      "['Rees, Susan', ' English, Latin, HTML, CSS, Javascript, Ruby, SQL']\n",
      "['Rudolph, John', ' English, Python, Sass, R, Basic']\n",
      "['Solomon, Tsega', ' C, C++, Perl, VHDL, Verilog, Specman']\n",
      "['Warren, Benjamin', ' English']\n",
      "['Aleson, Brandon', ' English']\n",
      "['Chang, Jaemin', ' English']\n",
      "['Chinn, Kyle', ' English']\n",
      "['Derdouri, Abderrazak', ' English']\n",
      "['Fannin, Calvin', ' C#, SQL, R']\n",
      "['Gaffney, Thomas', ' SQL, Python, R, VBA, English']\n",
      "['Glogowski, Bryan', ' Basic, Pascal, C, Perl, Ruby']\n",
      "['Ganzalez, Luis', ' Basic, C++, Python, English, Spanish']\n",
      "['Ho, Chi Kin', ' English']\n",
      "['McKeag, Gregory', ' C, Lisp, C++, Objective-C, SQL, R, Pascal, Ada, Perl, Prolog, Scheme, Assembley']\n",
      "['Myerscough, Damian', ' ']\n",
      "['Newton, Michael', ' Python, Perl, Matlab']\n",
      "['Sarpangala, Kishan', ' ']\n",
      "['Schincariol, Mike', ' Python, C#, C, Tcl, VBA, Perl, Bash, VHDL, Verilog, Matlab']\n",
      "['Zhao, Yuanrui', ' ']\n"
     ]
    }
   ],
   "source": [
    "lang = {}\n",
    "for lan in namelan:\n",
    "    for i,x in enumerate(lan):  "
   ]
  },
  {
   "cell_type": "code",
   "execution_count": 71,
   "metadata": {
    "collapsed": false
   },
   "outputs": [
    {
     "name": "stdout",
     "output_type": "stream",
     "text": [
      "{' English, Hindi, Python, shell, d2k, SQL, Perl': ' English, Hindi, Python, shell, d2k, SQL, Perl', ' English, Python, Sass, R, Basic': ' English, Python, Sass, R, Basic', ' Python, Perl, Matlab': ' Python, Perl, Matlab', ' ': ' ', ' SQL, Python, R, VBA, English': ' SQL, Python, R, VBA, English', ' C#, SQL, R': ' C#, SQL, R', ' Basic, Pascal, C, Perl, Ruby': ' Basic, Pascal, C, Perl, Ruby', ' Python, C#, C, Tcl, VBA, Perl, Bash, VHDL, Verilog, Matlab': ' Python, C#, C, Tcl, VBA, Perl, Bash, VHDL, Verilog, Matlab', ' C, Lisp, C++, Objective-C, SQL, R, Pascal, Ada, Perl, Prolog, Scheme, Assembley': ' C, Lisp, C++, Objective-C, SQL, R, Pascal, Ada, Perl, Prolog, Scheme, Assembley', ' English, Latin, HTML, CSS, Javascript, Ruby, SQL': ' English, Latin, HTML, CSS, Javascript, Ruby, SQL', ' English': ' English', ' SQL, English': ' SQL, English', ' C, C++, Perl, VHDL, Verilog, Specman': ' C, C++, Perl, VHDL, Verilog, Specman', ' Basic, C++, Python, English, Spanish': ' Basic, C++, Python, English, Spanish'}\n"
     ]
    }
   ],
   "source": [
    "print(lang)"
   ]
  },
  {
   "cell_type": "markdown",
   "metadata": {},
   "source": [
    "# Correct way to do this"
   ]
  },
  {
   "cell_type": "code",
   "execution_count": 78,
   "metadata": {
    "collapsed": false
   },
   "outputs": [
    {
     "name": "stdout",
     "output_type": "stream",
     "text": [
      " \n",
      "\n",
      " English\n",
      "\n",
      " English\n",
      "\n",
      " SQL, English\n",
      "\n",
      " English, Hindi, Python, shell, d2k, SQL, Perl\n",
      "\n",
      " English, Latin, HTML, CSS, Javascript, Ruby, SQL\n",
      "\n",
      " English, Python, Sass, R, Basic\n",
      "\n",
      " C, C++, Perl, VHDL, Verilog, Specman\n",
      "\n",
      " English\n",
      "\n",
      " English\n",
      "\n",
      " English\n",
      "\n",
      " English\n",
      "\n",
      " English\n",
      "\n",
      " C#, SQL, R\n",
      "\n",
      " SQL, Python, R, VBA, English\n",
      "\n",
      " Basic, Pascal, C, Perl, Ruby\n",
      "\n",
      " Basic, C++, Python, English, Spanish\n",
      "\n",
      " English\n",
      "\n",
      " C, Lisp, C++, Objective-C, SQL, R, Pascal, Ada, Perl, Prolog, Scheme, Assembley\n",
      "\n",
      " \n",
      "\n",
      " Python, Perl, Matlab\n",
      "\n",
      " \n",
      "\n",
      " Python, C#, C, Tcl, VBA, Perl, Bash, VHDL, Verilog, Matlab\n",
      "\n",
      " \n",
      "\n"
     ]
    }
   ],
   "source": [
    "with open('students.txt', 'r') as f:\n",
    "    for lines in f:\n",
    "        students_languages = lines.split(':')[1]\n",
    "        print(students_languages)"
   ]
  },
  {
   "cell_type": "code",
   "execution_count": 83,
   "metadata": {
    "collapsed": false
   },
   "outputs": [],
   "source": [
    "language_set = set()\n",
    "with open('students.txt', 'r') as f:\n",
    "    for lines in f:\n",
    "        students_languages = lines.split(':')[1]\n",
    "        language_list = students_languages.split(',')        \n",
    "        for item in language_list:\n",
    "            language_set.add(item)"
   ]
  },
  {
   "cell_type": "code",
   "execution_count": 84,
   "metadata": {
    "collapsed": false
   },
   "outputs": [
    {
     "name": "stdout",
     "output_type": "stream",
     "text": [
      "{' Basic\\n', ' Ruby', ' Lisp', ' Ruby\\n', ' VHDL', ' SQL', ' Bash', ' C#', ' Latin', ' Python', ' C++', ' Tcl', ' Assembley\\n', ' C', ' Basic', ' R', ' Perl\\n', ' Ada', ' Pascal', ' CSS', ' Sass', ' Scheme', ' shell', ' English\\n', ' Objective-C', ' \\n', ' Spanish\\n', ' Specman\\n', ' English', ' Javascript', ' Perl', ' R\\n', ' Hindi', ' HTML', ' VBA', ' d2k', ' Prolog', ' SQL\\n', ' Verilog', ' Matlab\\n'}\n"
     ]
    }
   ],
   "source": [
    "print(language_set)"
   ]
  },
  {
   "cell_type": "code",
   "execution_count": null,
   "metadata": {
    "collapsed": true
   },
   "outputs": [],
   "source": []
  }
 ],
 "metadata": {
  "kernelspec": {
   "display_name": "Python 3",
   "language": "python",
   "name": "python3"
  },
  "language_info": {
   "codemirror_mode": {
    "name": "ipython",
    "version": 3
   },
   "file_extension": ".py",
   "mimetype": "text/x-python",
   "name": "python",
   "nbconvert_exporter": "python",
   "pygments_lexer": "ipython3",
   "version": "3.4.3"
  }
 },
 "nbformat": 4,
 "nbformat_minor": 0
}
