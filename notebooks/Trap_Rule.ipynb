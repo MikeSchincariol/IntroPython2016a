{
 "cells": [
  {
   "cell_type": "markdown",
   "metadata": {},
   "source": [
    "## Background"
   ]
  },
  {
   "cell_type": "markdown",
   "metadata": {},
   "source": [
    "You have a function f(x) and want to calculate the area under the curve of f(x) from a to b.  \n",
    "\n",
    "<img src = 'https://i.ytimg.com/vi/Zjs8m5pinJ0/maxresdefault.jpg'>\n",
    "\n",
    "- Intervals of equal length  \n",
    "- h = (b - a) / n  \n",
    "    - where b = end point  \n",
    "    - a = start point   \n",
    "    - n = number of intervals  "
   ]
  },
  {
   "cell_type": "markdown",
   "metadata": {},
   "source": [
    "## The goal "
   ]
  },
  {
   "cell_type": "markdown",
   "metadata": {},
   "source": [
    "Create a function that can integrate any function you pass to it:   \n",
    "\n",
    "- Pass a function to this trapz function \n",
    "- Pass a start point  \n",
    "- Pass an end point\n",
    "- Return the area under the curve"
   ]
  },
  {
   "cell_type": "code",
   "execution_count": null,
   "metadata": {
    "collapsed": false
   },
   "outputs": [],
   "source": [
    "def line(x):\n",
    "    '''a very simple straight horizontal line at y = 5'''\n",
    "    return 5\n",
    "\n",
    "area = trapz(line, 0, 10)\n",
    "\n",
    "print (area)\n",
    "\n",
    "50"
   ]
  },
  {
   "cell_type": "code",
   "execution_count": null,
   "metadata": {
    "collapsed": true
   },
   "outputs": [],
   "source": [
    "def trapz(fun, a, b):\n",
    "    \"\"\"\n",
    "    Compute the area under the curve defined by\n",
    "    y = fun(x), for x between a and b\n",
    "    \n",
    "    :param fun: the function to evaluate\n",
    "    :type fun: a function that takes a single parameter\n",
    "\n",
    "    :param a: the start point for the integration\n",
    "    :type a: a numeric value\n",
    "\n",
    "    :param b: the end point for the integration\n",
    "    :type b: a numeric value\n",
    "    \"\"\"  \n",
    "    pass"
   ]
  },
  {
   "cell_type": "markdown",
   "metadata": {},
   "source": [
    "You will need to:  \n",
    "   - create list of x values from a to b  \n",
    "   - compute whatever the function is for each of those values  \n",
    "   - add the results up  \n",
    "   - multiply by half the difference between a and b divided by the number of steps  "
   ]
  },
  {
   "cell_type": "markdown",
   "metadata": {},
   "source": [
    "### Create a function to test\n",
    "\n",
    "Let's use the straight line function from the example. \n"
   ]
  },
  {
   "cell_type": "code",
   "execution_count": 5,
   "metadata": {
    "collapsed": true
   },
   "outputs": [],
   "source": [
    "# create a straight line\n",
    "def line(x):\n",
    "    '''a very simple straight horizontal line at y = 5'''\n",
    "    return 5"
   ]
  },
  {
   "cell_type": "markdown",
   "metadata": {},
   "source": [
    "### Create a list of x values from a to b"
   ]
  },
  {
   "cell_type": "code",
   "execution_count": 1,
   "metadata": {
    "collapsed": true
   },
   "outputs": [],
   "source": [
    "def create_range(a,b,n):\n",
    "    '''\n",
    "    a = start point\n",
    "    b = end point\n",
    "    n = number of intervals to create\n",
    "    '''\n",
    "    # create list of x values from a to b \n",
    "    delta = float(b - a)/n\n",
    "    return [a + i * delta  for i in range(n + 1)]\n",
    "    "
   ]
  },
  {
   "cell_type": "code",
   "execution_count": 2,
   "metadata": {
    "collapsed": false
   },
   "outputs": [
    {
     "name": "stdout",
     "output_type": "stream",
     "text": [
      "[1.0, 5.5, 10.0]\n"
     ]
    }
   ],
   "source": [
    "stuff = create_range(1,10,2)\n",
    "print (stuff)"
   ]
  },
  {
   "cell_type": "markdown",
   "metadata": {},
   "source": [
    "### Compute the function for each of those values and sum"
   ]
  },
  {
   "cell_type": "code",
   "execution_count": 6,
   "metadata": {
    "collapsed": false
   },
   "outputs": [],
   "source": [
    "def trapz(fun, a, b, n):\n",
    "    # create a range from a to b\n",
    "    my_vals = create_range(a,b,n)\n",
    "    # compute the function for each of those values and double\n",
    "    s = [fun(x) for x in my_vals[1:-1]] * 2\n",
    "    print (s)"
   ]
  },
  {
   "cell_type": "code",
   "execution_count": 7,
   "metadata": {
    "collapsed": false
   },
   "outputs": [
    {
     "name": "stdout",
     "output_type": "stream",
     "text": [
      "[5, 5]\n"
     ]
    }
   ],
   "source": [
    "test_calc_fun = trapz(line, 1,10,2)"
   ]
  },
  {
   "cell_type": "code",
   "execution_count": 8,
   "metadata": {
    "collapsed": true
   },
   "outputs": [],
   "source": [
    "def trapz(fun, a, b, n):\n",
    "    # create a range from a to b\n",
    "    my_vals = create_range(a,b,n)\n",
    "    # compute the function for each of those values\n",
    "    s = sum([fun(x) for x in my_vals[1:-1]] * 2)\n",
    "    print (s)"
   ]
  },
  {
   "cell_type": "code",
   "execution_count": 9,
   "metadata": {
    "collapsed": false
   },
   "outputs": [
    {
     "name": "stdout",
     "output_type": "stream",
     "text": [
      "10\n"
     ]
    }
   ],
   "source": [
    "test_sum = trapz(line, 1,10,2)"
   ]
  },
  {
   "cell_type": "markdown",
   "metadata": {},
   "source": [
    "### Multiply by half the difference between a and b divided by the number of steps"
   ]
  },
  {
   "cell_type": "code",
   "execution_count": 10,
   "metadata": {
    "collapsed": true
   },
   "outputs": [],
   "source": [
    "def trapz(fun, a, b, n):\n",
    "    # create a range from a to b\n",
    "    my_vals = create_range(a,b,n)\n",
    "    # compute the function for each of those values and double, then sum\n",
    "    s = sum([fun(x) for x in my_vals[1:-1]] * 2)\n",
    "    # calculate half the diff between a and b divided by n\n",
    "    diff = ((b - a) * .5)/n\n",
    "    print (diff)\n"
   ]
  },
  {
   "cell_type": "code",
   "execution_count": 11,
   "metadata": {
    "collapsed": false
   },
   "outputs": [
    {
     "name": "stdout",
     "output_type": "stream",
     "text": [
      "2.25\n"
     ]
    }
   ],
   "source": [
    "test_diff =  trapz(line, 1,10,2)"
   ]
  },
  {
   "cell_type": "code",
   "execution_count": 12,
   "metadata": {
    "collapsed": true
   },
   "outputs": [],
   "source": [
    "def trapz(fun, a, b, n):\n",
    "    # create a range from a to b\n",
    "    my_vals = create_range(a,b,n)\n",
    "    # compute the function for each of those values\n",
    "    s = sum([fun(x) for x in my_vals[1:-1]])\n",
    "    # calculate diff between f(a) and f(b) divided by n\n",
    "    diff = ((b - a) * .5)/n\n",
    "    # multiply s by diff\n",
    "    area = s * diff\n",
    "    return area"
   ]
  },
  {
   "cell_type": "code",
   "execution_count": 13,
   "metadata": {
    "collapsed": false
   },
   "outputs": [
    {
     "name": "stdout",
     "output_type": "stream",
     "text": [
      "11.25\n"
     ]
    }
   ],
   "source": [
    "test_trapz = trapz(line, 1,10,2)\n",
    "print (test_trapz)"
   ]
  },
  {
   "cell_type": "markdown",
   "metadata": {},
   "source": [
    "## Test with a simple function"
   ]
  },
  {
   "cell_type": "code",
   "execution_count": 14,
   "metadata": {
    "collapsed": true
   },
   "outputs": [],
   "source": [
    "def add_one(x):\n",
    "    one_more = x + 1\n",
    "    return one_more"
   ]
  },
  {
   "cell_type": "code",
   "execution_count": 15,
   "metadata": {
    "collapsed": false
   },
   "outputs": [
    {
     "name": "stdout",
     "output_type": "stream",
     "text": [
      "3\n"
     ]
    }
   ],
   "source": [
    "print (add_one(2))"
   ]
  },
  {
   "cell_type": "code",
   "execution_count": 16,
   "metadata": {
    "collapsed": false
   },
   "outputs": [
    {
     "name": "stdout",
     "output_type": "stream",
     "text": [
      "14.625\n"
     ]
    }
   ],
   "source": [
    "test2 = trapz(add_one, 1,10,2)\n",
    "print (test2)"
   ]
  },
  {
   "cell_type": "markdown",
   "metadata": {},
   "source": [
    "## Stage 2: Passing functions with more than one argument"
   ]
  },
  {
   "cell_type": "markdown",
   "metadata": {
    "collapsed": true
   },
   "source": [
    "So far, the functions we pass to trapz can only take on argument. Let's update it so that we can pass through a function with any number of arguments. "
   ]
  },
  {
   "cell_type": "markdown",
   "metadata": {},
   "source": [
    "Goal = pass a variable number or arguments to a function\n",
    "\n",
    "- trapz(quadratic, 2, 20, A=1, B=3, C=2)  \n",
    "- trapz(quadratic, 2, 20, 1, 3, C=2)  \n",
    "- coef = {'A':1, 'B':3, 'C': 2}  \n",
    "- trapz(quadratic, 2, 20, **coef)  "
   ]
  },
  {
   "cell_type": "markdown",
   "metadata": {},
   "source": [
    "### Quick review of *args and **kwargs"
   ]
  },
  {
   "cell_type": "markdown",
   "metadata": {},
   "source": [
    "Example from http://markmiyMashita.com/blog/python-args-and-kwargs/Mm"
   ]
  },
  {
   "cell_type": "code",
   "execution_count": null,
   "metadata": {
    "collapsed": true
   },
   "outputs": [],
   "source": [
    "def func_with_two(one, two):\n",
    "    \"\"\"\n",
    "    Takes in two arguments because we explicitly\n",
    "    defined two formal parameters. \n",
    "    Any more or any less will cause anerror.\n",
    "    \"\"\"\n",
    "    \n",
    "def func_with_start_args(*args):\n",
    "    \"\"\"\n",
    "    This function can take in any number of arguments, including zero!\n",
    "    \"\"\"\n",
    "    \n",
    "def func_with_both(one, two, *args):\n",
    "    \"\"\"\n",
    "    This function requires at least two arguments. The *args at the end\n",
    "    says that it can take just two arguments or any number of arguments as long\n",
    "    as there are at least two.\n",
    "    \"\"\""
   ]
  },
  {
   "cell_type": "code",
   "execution_count": 17,
   "metadata": {
    "collapsed": true
   },
   "outputs": [],
   "source": [
    "#keyword argument = you name the variable as you pass it\n",
    "def print_table(**kwargs):\n",
    "    for key, value in kwargs.items():\n",
    "        print(key, value)"
   ]
  },
  {
   "cell_type": "code",
   "execution_count": 18,
   "metadata": {
    "collapsed": false
   },
   "outputs": [
    {
     "name": "stdout",
     "output_type": "stream",
     "text": [
      "b 6\n",
      "c 7\n",
      "a 5\n"
     ]
    }
   ],
   "source": [
    "print_table(a = 5, b = 6, c = 7)"
   ]
  },
  {
   "cell_type": "markdown",
   "metadata": {},
   "source": [
    "How can you use *args and **kwargs to update the trapezoid function? "
   ]
  },
  {
   "cell_type": "code",
   "execution_count": 19,
   "metadata": {
    "collapsed": true
   },
   "outputs": [],
   "source": [
    "# student example\n",
    "\n",
    "def trapz(fun, a, b, num_steps, **kwargs):\n",
    "    \"\"\"\n",
    "    Compute the area under the curve defined by\n",
    "    y = fun(x), for x between a and b\n",
    "    :param fun: the function to evaluate\n",
    "    :type fun: a function that takes a single parameter\n",
    "    :param a: the start point for the integration\n",
    "    :type a: a numeric value\n",
    "    :param b: the end point for the integration\n",
    "    :type b: a numeric value\n",
    "    \"\"\"\n",
    "    STEP_SIZE = (b-a)/num_steps\n",
    "\n",
    "    sum = 0\n",
    "    for i in range(0, num_steps):\n",
    "        left = a + (i * STEP_SIZE)\n",
    "        right = a + ((i+1) * STEP_SIZE)\n",
    "        sum += fun(left, **kwargs) + fun(right, **kwargs)\n",
    "\n",
    "    sum = sum * STEP_SIZE / 2\n",
    "    return sum"
   ]
  },
  {
   "cell_type": "code",
   "execution_count": 20,
   "metadata": {
    "collapsed": false
   },
   "outputs": [
    {
     "data": {
      "text/plain": [
       "58.5"
      ]
     },
     "execution_count": 20,
     "metadata": {},
     "output_type": "execute_result"
    }
   ],
   "source": [
    "trapz(add_one, 1,10,2)"
   ]
  },
  {
   "cell_type": "code",
   "execution_count": null,
   "metadata": {
    "collapsed": true
   },
   "outputs": [],
   "source": []
  }
 ],
 "metadata": {
  "kernelspec": {
   "display_name": "Python 3",
   "language": "python",
   "name": "python3"
  },
  "language_info": {
   "codemirror_mode": {
    "name": "ipython",
    "version": 3
   },
   "file_extension": ".py",
   "mimetype": "text/x-python",
   "name": "python",
   "nbconvert_exporter": "python",
   "pygments_lexer": "ipython3",
   "version": "3.5.1"
  }
 },
 "nbformat": 4,
 "nbformat_minor": 0
}
